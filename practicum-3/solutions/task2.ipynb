{
 "cells": [
  {
   "cell_type": "markdown",
   "metadata": {},
   "source": [
    "# Comparing different classifiers on the Iris dataset\n",
    "\n",
    "Train different classifiers and compare their performance by filling out the following table.\n",
    "\n",
    "| Method                   | Accuracy | Error rate |\n",
    "| ------------------------ | -------- | ---------- |\n",
    "| Decision tree            |   0.94   |    0.06    |\n",
    "| Nearest Neighbors (k=3)  |   0.98   |    0.02    |\n",
    "| Naive Bayes (Gaussian)   |   0.94   |    0.06    |\n",
    "| SVM (linear kernel)      |   0.98   |    0.02    |\n",
    "| SVM (polyn. kernel)      |   0.98   |    0.02    |\n",
    "| SVM (RBF kernel)         |   0.96   |    0.04    |\n",
    "| Random Forest            |   0.94   |    0.06    |\n"
   ]
  },
  {
   "cell_type": "code",
   "execution_count": 1,
   "metadata": {
    "collapsed": true
   },
   "outputs": [],
   "source": [
    "import csv\n",
    "from collections import Counter\n",
    "import numpy as np\n",
    "import pprint\n",
    "import math"
   ]
  },
  {
   "cell_type": "code",
   "execution_count": 2,
   "metadata": {
    "collapsed": true
   },
   "outputs": [],
   "source": [
    "from sklearn.tree import DecisionTreeClassifier\n",
    "from sklearn.neighbors import KNeighborsClassifier\n",
    "from sklearn.naive_bayes import GaussianNB\n",
    "from sklearn.svm import SVC\n",
    "from sklearn.ensemble import RandomForestClassifier"
   ]
  },
  {
   "cell_type": "markdown",
   "metadata": {},
   "source": [
    "### Loading data "
   ]
  },
  {
   "cell_type": "code",
   "execution_count": 3,
   "metadata": {
    "collapsed": true
   },
   "outputs": [],
   "source": [
    "def load_data(filename):\n",
    "    train_x = []\n",
    "    train_y = []\n",
    "    test_x = []\n",
    "    test_y = []\n",
    "    with open(filename, 'rt') as csvfile:\n",
    "        csvreader = csv.reader(csvfile, delimiter=',')\n",
    "        i = 0\n",
    "        for row in csvreader:\n",
    "            if len(row) == 5:\n",
    "                i += 1\n",
    "                instance = [float(row[i]) for i in range(4)]  # first four values are attributes\n",
    "                label = row[4]  # 5th value is the class label\n",
    "                if i % 3 == 0:  # test instance\n",
    "                    test_x.append(instance)\n",
    "                    test_y.append(label)\n",
    "                else:  # train instance\n",
    "                    train_x.append(instance)\n",
    "                    train_y.append(label)\n",
    "                    \n",
    "    return train_x, train_y, test_x, test_y"
   ]
  },
  {
   "cell_type": "markdown",
   "metadata": {},
   "source": [
    "### Evaluating predictions"
   ]
  },
  {
   "cell_type": "code",
   "execution_count": 4,
   "metadata": {
    "collapsed": false
   },
   "outputs": [],
   "source": [
    "def evaluate(predictions, true_labels):\n",
    "    correct = 0\n",
    "    incorrect = 0\n",
    "    for i in range(len(predictions)):\n",
    "        if predictions[i] == true_labels[i]:\n",
    "            correct += 1\n",
    "        else:\n",
    "            incorrect += 1\n",
    "\n",
    "    print(\"Accuracy:   \", correct / len(predictions))\n",
    "    print(\"Error rate: \", incorrect / len(predictions))"
   ]
  },
  {
   "cell_type": "markdown",
   "metadata": {},
   "source": [
    "### Load data\n",
    "\n",
    "Note that we need the data in a different format. Each instance is a list of values (not a dict, as before)."
   ]
  },
  {
   "cell_type": "code",
   "execution_count": 5,
   "metadata": {
    "collapsed": true
   },
   "outputs": [],
   "source": [
    "train_x, train_y, test_x, test_y = load_data(\"../data/iris.data\")"
   ]
  },
  {
   "cell_type": "markdown",
   "metadata": {
    "collapsed": false
   },
   "source": [
    "## Comparing different classifiers"
   ]
  },
  {
   "cell_type": "markdown",
   "metadata": {},
   "source": [
    "### Decision tree"
   ]
  },
  {
   "cell_type": "code",
   "execution_count": 6,
   "metadata": {
    "collapsed": false
   },
   "outputs": [
    {
     "name": "stdout",
     "output_type": "stream",
     "text": [
      "Decision tree\n",
      "Accuracy:    0.94\n",
      "Error rate:  0.06\n"
     ]
    }
   ],
   "source": [
    "print(\"Decision tree\")\n",
    "clf = DecisionTreeClassifier()\n",
    "clf.fit(train_x, train_y)\n",
    "predictions = clf.predict(test_x)\n",
    "evaluate(predictions, test_y)"
   ]
  },
  {
   "cell_type": "markdown",
   "metadata": {
    "collapsed": false
   },
   "source": [
    "### Nearest Neighbors"
   ]
  },
  {
   "cell_type": "code",
   "execution_count": 7,
   "metadata": {
    "collapsed": false
   },
   "outputs": [
    {
     "name": "stdout",
     "output_type": "stream",
     "text": [
      "Nearest Neighbors\n",
      "Accuracy:    0.98\n",
      "Error rate:  0.02\n"
     ]
    }
   ],
   "source": [
    "print(\"Nearest Neighbors\")\n",
    "k = 3\n",
    "clf = KNeighborsClassifier(k)\n",
    "clf.fit(train_x, train_y)\n",
    "predictions = clf.predict(test_x)\n",
    "evaluate(predictions, test_y)"
   ]
  },
  {
   "cell_type": "markdown",
   "metadata": {},
   "source": [
    "### Naive Bayes (Gaussian)"
   ]
  },
  {
   "cell_type": "code",
   "execution_count": 8,
   "metadata": {
    "collapsed": false
   },
   "outputs": [
    {
     "name": "stdout",
     "output_type": "stream",
     "text": [
      "Naive Bayes (Gaussian)\n",
      "Accuracy:    0.94\n",
      "Error rate:  0.06\n"
     ]
    }
   ],
   "source": [
    "print(\"Naive Bayes (Gaussian)\")\n",
    "clf = GaussianNB()\n",
    "clf.fit(train_x, train_y)\n",
    "predictions = clf.predict(test_x)\n",
    "evaluate(predictions, test_y)"
   ]
  },
  {
   "cell_type": "markdown",
   "metadata": {},
   "source": [
    "### SVM (linear kernel)"
   ]
  },
  {
   "cell_type": "code",
   "execution_count": 9,
   "metadata": {
    "collapsed": false
   },
   "outputs": [
    {
     "name": "stdout",
     "output_type": "stream",
     "text": [
      "SVM (linear kernel)\n",
      "Accuracy:    0.98\n",
      "Error rate:  0.02\n"
     ]
    }
   ],
   "source": [
    "print(\"SVM (linear kernel)\")\n",
    "clf = SVC(kernel='linear')\n",
    "clf.fit(train_x, train_y)\n",
    "predictions = clf.predict(test_x)\n",
    "evaluate(predictions, test_y)"
   ]
  },
  {
   "cell_type": "markdown",
   "metadata": {},
   "source": [
    "### SVM (polynomial kernel)"
   ]
  },
  {
   "cell_type": "code",
   "execution_count": 10,
   "metadata": {
    "collapsed": false
   },
   "outputs": [
    {
     "name": "stdout",
     "output_type": "stream",
     "text": [
      "SVM (polynomial kernel)\n",
      "Accuracy:    0.98\n",
      "Error rate:  0.02\n"
     ]
    }
   ],
   "source": [
    "print(\"SVM (polynomial kernel)\")\n",
    "clf = SVC(kernel='poly')\n",
    "clf.fit(train_x, train_y)\n",
    "predictions = clf.predict(test_x)\n",
    "evaluate(predictions, test_y)"
   ]
  },
  {
   "cell_type": "markdown",
   "metadata": {},
   "source": [
    "### SVM (RBF kernel)"
   ]
  },
  {
   "cell_type": "code",
   "execution_count": 11,
   "metadata": {
    "collapsed": false
   },
   "outputs": [
    {
     "name": "stdout",
     "output_type": "stream",
     "text": [
      "SVM (RBF kernel)\n",
      "Accuracy:    0.96\n",
      "Error rate:  0.04\n"
     ]
    }
   ],
   "source": [
    "print(\"SVM (RBF kernel)\")\n",
    "clf = SVC(kernel='rbf')\n",
    "clf.fit(train_x, train_y)\n",
    "predictions = clf.predict(test_x)\n",
    "evaluate(predictions, test_y)"
   ]
  },
  {
   "cell_type": "markdown",
   "metadata": {},
   "source": [
    "### Random Forest"
   ]
  },
  {
   "cell_type": "code",
   "execution_count": 12,
   "metadata": {
    "collapsed": false
   },
   "outputs": [
    {
     "name": "stdout",
     "output_type": "stream",
     "text": [
      "Accuracy:    0.94\n",
      "Error rate:  0.06\n"
     ]
    }
   ],
   "source": [
    "trees = 10  # number of trees in the forest\n",
    "max_features = 2  # maximum number of features in each tree\n",
    "clf = RandomForestClassifier(n_estimators=trees, max_features=max_features)\n",
    "clf.fit(train_x, train_y)\n",
    "predictions = clf.predict(test_x)\n",
    "evaluate(predictions, test_y)"
   ]
  }
 ],
 "metadata": {
  "kernelspec": {
   "display_name": "Python 3",
   "language": "python",
   "name": "python3"
  },
  "language_info": {
   "codemirror_mode": {
    "name": "ipython",
    "version": 3
   },
   "file_extension": ".py",
   "mimetype": "text/x-python",
   "name": "python",
   "nbconvert_exporter": "python",
   "pygments_lexer": "ipython3",
   "version": "3.5.1"
  }
 },
 "nbformat": 4,
 "nbformat_minor": 0
}
