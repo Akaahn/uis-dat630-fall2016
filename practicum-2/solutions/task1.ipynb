{
 "cells": [
  {
   "cell_type": "markdown",
   "metadata": {},
   "source": [
    "# Implement a Naive Bayes classifier\n",
    "\n",
    "  - a) Use categorical attributes by discretize each attribute into three equally-sized bins: low, medium, high.\n",
    "  - b) Use continuous attributes and assume a Gaussian (normal) distribution. Estimate the parameters of the distribution (mean and variance) from the training data (you'll have different parameters for each attribute)!"
   ]
  },
  {
   "cell_type": "code",
   "execution_count": 176,
   "metadata": {
    "collapsed": true
   },
   "outputs": [],
   "source": [
    "import csv\n",
    "from collections import Counter\n",
    "import numpy as np\n",
    "import pprint\n",
    "import math\n",
    "\n",
    "ATTRS = [\"sepal_length\", \"sepal_width\", \"petal_length\", \"petal_width\"]"
   ]
  },
  {
   "cell_type": "markdown",
   "metadata": {},
   "source": [
    "Complete the parts marked with #TODO"
   ]
  },
  {
   "cell_type": "code",
   "execution_count": 177,
   "metadata": {
    "collapsed": false
   },
   "outputs": [],
   "source": [
    "class NB(object):\n",
    "    def __init__(self):\n",
    "        self.model = None\n",
    "    \n",
    "    def train(self, attributes, labels):\n",
    "        self.model = {}\n",
    "        numclasses = 3  # TODO this should be computed from the data\n",
    "        for l, freq in Counter(labels).items():\n",
    "            # class prior probabilities\n",
    "            self.model[l] = {'P(y)': freq / len(labels)}\n",
    "            # conditional probabilities P(X=x|Y=y)\n",
    "            for a in ATTRS:\n",
    "                for v in [\"low\", \"medium\", \"high\"]:\n",
    "                    cnt = 0\n",
    "                    for i in range(len(attributes)):\n",
    "                        if attributes[i][a] == v and labels[i] == l:\n",
    "                            cnt += 1\n",
    "                    key = a + \"=\" + v\n",
    "                    self.model[l][key] = (1 + cnt) / (numclasses + freq)\n",
    "                                \n",
    "        # pprint.pprint(self.model)\n",
    "    \n",
    "    def apply(self, attributes):\n",
    "        if not self.model:\n",
    "            raise Exception(\"Model has not been trained\")\n",
    "        # P(Y|X) \\propto P(Y) * P(X_1|Y) * ... * P(X_n|Y)\n",
    "        # in log space: \n",
    "        # log P(Y|X) \\propto log P(Y) + log P(X_1|Y) + ... + log P(X_n|Y)\n",
    "        maxp = -1000 \n",
    "        maxl = None\n",
    "        for l, p in self.model.items():\n",
    "            prob = math.log(p['P(y)'])\n",
    "            #s = \"P(\" + l + \")=\" + str(prob)\n",
    "            for a in ATTRS:\n",
    "                key = a + '=' + attributes[a]\n",
    "                prob += math.log(p[key])\n",
    "                #s += \" * P(\" + key + \"|\" + l +\")=\" + str(prob)\n",
    "            #print(s)  # debug\n",
    "            if prob > maxp:\n",
    "                maxp = prob\n",
    "                maxl = l\n",
    "        \n",
    "        #print(maxl, maxp)\n",
    "        \n",
    "        return maxl"
   ]
  },
  {
   "cell_type": "markdown",
   "metadata": {},
   "source": [
    "Loading data "
   ]
  },
  {
   "cell_type": "code",
   "execution_count": 178,
   "metadata": {
    "collapsed": true
   },
   "outputs": [],
   "source": [
    "def load_data(filename):\n",
    "    train_x = []\n",
    "    train_y = []\n",
    "    test_x = []\n",
    "    test_y = []\n",
    "    with open(filename, 'rt') as csvfile:\n",
    "        csvreader = csv.reader(csvfile, delimiter=',')\n",
    "        i = 0\n",
    "        for row in csvreader:\n",
    "            if len(row) == 5:\n",
    "                i += 1\n",
    "                instance = {\n",
    "                    \"sepal_length\": float(row[0]),\n",
    "                    \"sepal_width\": float(row[1]),\n",
    "                    \"petal_length\": float(row[2]),\n",
    "                    \"petal_width\": float(row[3]),\n",
    "                }\n",
    "                label = row[4]\n",
    "                if i % 3 == 0:  # test instance\n",
    "                    test_x.append(instance)\n",
    "                    test_y.append(label)\n",
    "                else:  # train instance\n",
    "                    train_x.append(instance)\n",
    "                    train_y.append(label)\n",
    "                    \n",
    "    return train_x, train_y, test_x, test_y"
   ]
  },
  {
   "cell_type": "markdown",
   "metadata": {},
   "source": [
    "Evaluating predictions"
   ]
  },
  {
   "cell_type": "code",
   "execution_count": 179,
   "metadata": {
    "collapsed": false
   },
   "outputs": [],
   "source": [
    "def evaluate(predictions, true_labels):\n",
    "    correct = 0\n",
    "    incorrect = 0\n",
    "    for i in range(len(predictions)):\n",
    "        if predictions[i] == true_labels[i]:\n",
    "            correct += 1\n",
    "        else:\n",
    "            incorrect += 1\n",
    "\n",
    "    print(\"Accuracy:   \", correct / len(predictions))\n",
    "    print(\"Error rate: \", incorrect / len(predictions))\n",
    "    \n",
    "    return 0"
   ]
  },
  {
   "cell_type": "markdown",
   "metadata": {},
   "source": [
    "**Discretization**\n",
    "\n",
    "We need to replace numerical values with labels 'low', 'medium', 'high' such that 1/3 of the values are assigned 'low', 1/3 of the values are assigned 'medium', and 1/3 of the values are assigned 'high'. "
   ]
  },
  {
   "cell_type": "code",
   "execution_count": 180,
   "metadata": {
    "collapsed": false
   },
   "outputs": [],
   "source": [
    "def discretize(attributes):\n",
    "    attrs2 = [{} for _ in range(len(attributes))]  # initialize list of empty dicts\n",
    "    for a in ATTRS:\n",
    "        # find thresholds\n",
    "        values = np.array([x[a] for x in attributes])\n",
    "        t1 = np.percentile(values, 100/3)  # 33.3th percentile\n",
    "        t2 = np.percentile(values, 2*100/3)  # 66.6th percentile\n",
    "        for i in range(len(attributes)):\n",
    "            val = attributes[i][a]\n",
    "            if val <= t1:\n",
    "                val2 = \"low\" \n",
    "            elif val > t2:\n",
    "                val2 = \"high\"\n",
    "            else:\n",
    "                val2 = \"medium\"\n",
    "            attrs2[i][a] = val2\n",
    "     \n",
    "    return attrs2"
   ]
  },
  {
   "cell_type": "markdown",
   "metadata": {},
   "source": [
    "## Main logic"
   ]
  },
  {
   "cell_type": "markdown",
   "metadata": {},
   "source": [
    "Load data"
   ]
  },
  {
   "cell_type": "code",
   "execution_count": 181,
   "metadata": {
    "collapsed": false
   },
   "outputs": [],
   "source": [
    "train_x, train_y, test_x, test_y = load_data(\"../data/iris.data\")"
   ]
  },
  {
   "cell_type": "code",
   "execution_count": 182,
   "metadata": {
    "collapsed": true
   },
   "outputs": [],
   "source": [
    "### Using discretization"
   ]
  },
  {
   "cell_type": "code",
   "execution_count": 183,
   "metadata": {
    "collapsed": false
   },
   "outputs": [],
   "source": [
    "nb = NB()"
   ]
  },
  {
   "cell_type": "markdown",
   "metadata": {},
   "source": [
    "Discretizatize attribute values"
   ]
  },
  {
   "cell_type": "code",
   "execution_count": 184,
   "metadata": {
    "collapsed": false
   },
   "outputs": [],
   "source": [
    "x2 = discretize(train_x + test_x)\n",
    "train_x2 = x2[:len(train_x)]\n",
    "test_x2 = x2[-len(test_x):]"
   ]
  },
  {
   "cell_type": "markdown",
   "metadata": {},
   "source": [
    "Train model"
   ]
  },
  {
   "cell_type": "code",
   "execution_count": 185,
   "metadata": {
    "collapsed": false
   },
   "outputs": [],
   "source": [
    "nb.train(train_x2, train_y)"
   ]
  },
  {
   "cell_type": "markdown",
   "metadata": {},
   "source": [
    "Apply model"
   ]
  },
  {
   "cell_type": "code",
   "execution_count": 186,
   "metadata": {
    "collapsed": false
   },
   "outputs": [
    {
     "name": "stdout",
     "output_type": "stream",
     "text": [
      "Iris-setosa -2.4928913346968535\n",
      "Iris-setosa -1.7997441541369086\n",
      "Iris-setosa -4.977797984484854\n",
      "Iris-setosa -1.7997441541369086\n",
      "Iris-setosa -3.624293446187954\n",
      "Iris-setosa -1.7997441541369086\n",
      "Iris-setosa -1.7997441541369086\n",
      "Iris-setosa -1.7997441541369086\n",
      "Iris-setosa -1.7997441541369086\n",
      "Iris-setosa -2.4928913346968535\n",
      "Iris-setosa -1.7997441541369086\n",
      "Iris-setosa -2.4928913346968535\n",
      "Iris-setosa -2.4928913346968535\n",
      "Iris-setosa -4.977797984484854\n",
      "Iris-setosa -1.7997441541369086\n",
      "Iris-setosa -2.4928913346968535\n",
      "Iris-versicolor -3.9200606219331444\n",
      "Iris-versicolor -2.150774008557148\n",
      "Iris-versicolor -5.529498534367245\n",
      "Iris-versicolor -3.6323785494813636\n",
      "Iris-versicolor -2.150774008557148\n",
      "Iris-versicolor -3.9200606219331444\n",
      "Iris-versicolor -2.150774008557148\n",
      "Iris-versicolor -2.150774008557148\n",
      "Iris-versicolor -3.044591884579245\n",
      "Iris-virginica -2.74764409773438\n",
      "Iris-versicolor -2.150774008557148\n",
      "Iris-versicolor -5.67713453317331\n",
      "Iris-versicolor -3.9200606219331444\n",
      "Iris-versicolor -2.150774008557148\n",
      "Iris-versicolor -2.150774008557148\n",
      "Iris-versicolor -3.026242745911048\n",
      "Iris-versicolor -3.6323785494813636\n",
      "Iris-virginica -3.9262990940760263\n",
      "Iris-virginica -2.74764409773438\n",
      "Iris-virginica -2.74764409773438\n",
      "Iris-virginica -2.74764409773438\n",
      "Iris-virginica -3.9262990940760263\n",
      "Iris-virginica -2.74764409773438\n",
      "Iris-versicolor -5.67713453317331\n",
      "Iris-virginica -2.74764409773438\n",
      "Iris-virginica -2.74764409773438\n",
      "Iris-virginica -2.74764409773438\n",
      "Iris-virginica -3.3072598856698026\n",
      "Iris-versicolor -5.67713453317331\n",
      "Iris-virginica -2.74764409773438\n",
      "Iris-virginica -2.74764409773438\n",
      "Iris-virginica -2.74764409773438\n",
      "Iris-virginica -2.74764409773438\n",
      "Iris-virginica -3.9262990940760263\n"
     ]
    }
   ],
   "source": [
    "predictions = []\n",
    "for instance in test_x2:\n",
    "    label = nb.apply(instance)\n",
    "    predictions.append(label)"
   ]
  },
  {
   "cell_type": "markdown",
   "metadata": {},
   "source": [
    "Evaluate predictions"
   ]
  },
  {
   "cell_type": "code",
   "execution_count": 187,
   "metadata": {
    "collapsed": false
   },
   "outputs": [
    {
     "name": "stdout",
     "output_type": "stream",
     "text": [
      "Accuracy:    0.94\n",
      "Error rate:  0.06\n"
     ]
    },
    {
     "data": {
      "text/plain": [
       "0"
      ]
     },
     "execution_count": 187,
     "metadata": {},
     "output_type": "execute_result"
    }
   ],
   "source": [
    "evaluate(predictions, test_y)"
   ]
  }
 ],
 "metadata": {
  "kernelspec": {
   "display_name": "Python 3",
   "language": "python",
   "name": "python3"
  },
  "language_info": {
   "codemirror_mode": {
    "name": "ipython",
    "version": 3
   },
   "file_extension": ".py",
   "mimetype": "text/x-python",
   "name": "python",
   "nbconvert_exporter": "python",
   "pygments_lexer": "ipython3",
   "version": "3.5.1"
  }
 },
 "nbformat": 4,
 "nbformat_minor": 0
}
