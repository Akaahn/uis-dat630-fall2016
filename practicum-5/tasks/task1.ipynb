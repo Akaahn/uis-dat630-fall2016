{
 "cells": [
  {
   "cell_type": "markdown",
   "metadata": {},
   "source": [
    "# Term weighting and vector space retrieval"
   ]
  },
  {
   "cell_type": "code",
   "execution_count": 26,
   "metadata": {
    "collapsed": true
   },
   "outputs": [],
   "source": [
    "import math\n",
    "import operator"
   ]
  },
  {
   "cell_type": "markdown",
   "metadata": {},
   "source": [
    "Term-document matrix\n",
    "\n",
    "| term | D1 | D2 | D3 | D4 | D5 |\n",
    "| -- |:--:|:--:|:--:|:--:|:--:|\n",
    "| beijing | | 1 | | | 1 |\n",
    "| dish | | 1 | | | 1 |\n",
    "| duck | 3 | 2 | 2 | | 1 |\n",
    "| rabbit | | | 1 | 1 | |\n",
    "| recipe | | | 1 | 1 | 1 |\n",
    "| roast | | | | | "
   ]
  },
  {
   "cell_type": "code",
   "execution_count": 1,
   "metadata": {
    "collapsed": true
   },
   "outputs": [],
   "source": [
    "td_matrix = {\n",
    "    \"beijing\": [0, 1, 0, 0, 1],\n",
    "    \"dish\": [0, 1, 0, 0, 1],\n",
    "    \"duck\": [3, 2, 2, 0, 1],\n",
    "    \"rabbit\": [0, 0, 1, 1, 0],\n",
    "    \"recipe\": [0, 0, 1, 1, 1],\n",
    "    \"roast\": [0, 0, 0, 0, 0]\n",
    "}"
   ]
  },
  {
   "cell_type": "markdown",
   "metadata": {},
   "source": [
    "The vocabulary is a list of terms. We sort them here, but that's not necessary.\n",
    "\n",
    "Use this list every time iterating through terms. "
   ]
  },
  {
   "cell_type": "code",
   "execution_count": 2,
   "metadata": {
    "collapsed": true
   },
   "outputs": [],
   "source": [
    "voc = list(td_matrix.keys())\n",
    "voc.sort()"
   ]
  },
  {
   "cell_type": "markdown",
   "metadata": {},
   "source": [
    "The number of documents is set manually for simplicity"
   ]
  },
  {
   "cell_type": "code",
   "execution_count": 3,
   "metadata": {
    "collapsed": true
   },
   "outputs": [],
   "source": [
    "NUM_DOCS = 5"
   ]
  },
  {
   "cell_type": "markdown",
   "metadata": {},
   "source": [
    "The query is given as a sequence of terms"
   ]
  },
  {
   "cell_type": "code",
   "execution_count": 4,
   "metadata": {
    "collapsed": true
   },
   "outputs": [],
   "source": [
    "query = [\"beijing\", \"duck\", \"recipe\"]"
   ]
  },
  {
   "cell_type": "markdown",
   "metadata": {},
   "source": [
    "## TFIDF term weighting\n",
    "\n",
    "Use normalized frequencies for TF weight, i.e., $tf_{t,d}=\\frac{f_{t,d}}{|d|}$, where $f_{t,d}$ is the number of occurrences of term $t$ in document $d$ and $|d|$ is the document length (=total number of terms).\n",
    "\n",
    "Compute IDF values using the following formula: $idf_{t}=\\log \\frac{N}{n_t}$, where $N$ is the total number of document and $n_t$ is the number of documents that contain term $t$.  (Use base 10 for the logarithm to get the same values as for the paper-based exercise.)"
   ]
  },
  {
   "cell_type": "code",
   "execution_count": 5,
   "metadata": {
    "collapsed": true
   },
   "outputs": [],
   "source": [
    "idf = []  # idf[i] holds the IDF weight for term voc[i]"
   ]
  },
  {
   "cell_type": "markdown",
   "metadata": {},
   "source": [
    "### Term weighting for documents\n",
    "\n",
    "Takes term-document matrix as an argument."
   ]
  },
  {
   "cell_type": "code",
   "execution_count": 6,
   "metadata": {
    "collapsed": false
   },
   "outputs": [],
   "source": [
    "def tfidf_docs(tdm):\n",
    "    tdm_tfidf = {}\n",
    "    \n",
    "    dlen = []  # dlen[i] stores the length of the i-th document\n",
    "    \n",
    "    # iterate through terms\n",
    "    for t in voc:\n",
    "        td = tdm[t]  # vector of docs for the given term\n",
    "        tdm_tfidf[t] = []\n",
    "        for d, f in enumerate(td):\n",
    "            # f is the frequency of term t for doc d\n",
    "            # TODO compute TFIDF score for term t in doc d\n",
    "            tfidf = f\n",
    "            tdm_tfidf[t].append(tfidf)\n",
    "    \n",
    "    return tdm_tfidf"
   ]
  },
  {
   "cell_type": "markdown",
   "metadata": {},
   "source": [
    "Perform TFIDF-weighting for documents"
   ]
  },
  {
   "cell_type": "code",
   "execution_count": 7,
   "metadata": {
    "collapsed": false
   },
   "outputs": [],
   "source": [
    "tdm_tfidf = tfidf_docs(td_matrix)"
   ]
  },
  {
   "cell_type": "code",
   "execution_count": 8,
   "metadata": {
    "collapsed": false
   },
   "outputs": [
    {
     "data": {
      "text/plain": [
       "{'beijing': [0, 1, 0, 0, 1],\n",
       " 'dish': [0, 1, 0, 0, 1],\n",
       " 'duck': [3, 2, 2, 0, 1],\n",
       " 'rabbit': [0, 0, 1, 1, 0],\n",
       " 'recipe': [0, 0, 1, 1, 1],\n",
       " 'roast': [0, 0, 0, 0, 0]}"
      ]
     },
     "execution_count": 8,
     "metadata": {},
     "output_type": "execute_result"
    }
   ],
   "source": [
    "tdm_tfidf"
   ]
  },
  {
   "cell_type": "markdown",
   "metadata": {},
   "source": [
    "## TFIDF term weighting for the query\n",
    "\n",
    "Takes query term vector as an argument"
   ]
  },
  {
   "cell_type": "code",
   "execution_count": 9,
   "metadata": {
    "collapsed": true
   },
   "outputs": [],
   "source": [
    "def tfidf_q(tqv):\n",
    "    tqv_tfidf = []\n",
    "    for i, t in enumerate(voc):\n",
    "        # TODO compute TFIDF\n",
    "        # tqv[i] holds the raw frequency for term t\n",
    "        tfidf = tqv[i]\n",
    "        tqv_tfidf.append(tfidf)\n",
    "    return tqv_tfidf"
   ]
  },
  {
   "cell_type": "markdown",
   "metadata": {},
   "source": [
    "Create a term vector for the query and perform TFIDF weighting"
   ]
  },
  {
   "cell_type": "code",
   "execution_count": 10,
   "metadata": {
    "collapsed": true
   },
   "outputs": [],
   "source": [
    "tqv = []\n",
    "for t in voc:\n",
    "    tqv.append(query.count(t) if t in query else 0)"
   ]
  },
  {
   "cell_type": "code",
   "execution_count": 11,
   "metadata": {
    "collapsed": false
   },
   "outputs": [
    {
     "data": {
      "text/plain": [
       "[1, 0, 1, 0, 1, 0]"
      ]
     },
     "execution_count": 11,
     "metadata": {},
     "output_type": "execute_result"
    }
   ],
   "source": [
    "tqv"
   ]
  },
  {
   "cell_type": "code",
   "execution_count": 12,
   "metadata": {
    "collapsed": false
   },
   "outputs": [],
   "source": [
    "tqv_tfidf = tfidf_q(tqv)"
   ]
  },
  {
   "cell_type": "code",
   "execution_count": 13,
   "metadata": {
    "collapsed": false
   },
   "outputs": [
    {
     "data": {
      "text/plain": [
       "[1, 0, 1, 0, 1, 0]"
      ]
     },
     "execution_count": 13,
     "metadata": {},
     "output_type": "execute_result"
    }
   ],
   "source": [
    "tqv_tfidf"
   ]
  },
  {
   "cell_type": "markdown",
   "metadata": {},
   "source": [
    "## Scoring documents"
   ]
  },
  {
   "cell_type": "markdown",
   "metadata": {},
   "source": [
    "### Cosine similarity between a document and a query vector\n",
    "\n",
    "$cosine(\\mathbf{d}, \\mathbf{q})= \\frac{\\mathbf{d} \\cdot \\mathbf{q}}{||\\mathbf{d}||~||\\mathbf{q}||} =\\frac{\\sum_{t} w_{t,d}\\cdot w_{t,q}}{\\sqrt{\\sum_{t} w_{t,d}^2 \\sum_{t} w_{t,q}^2}}$"
   ]
  },
  {
   "cell_type": "code",
   "execution_count": 20,
   "metadata": {
    "collapsed": false
   },
   "outputs": [],
   "source": [
    "def cosine(dv, qv):\n",
    "    sumdq, sumd, sumq = 0, 0, 0\n",
    "    # Iterate two lists parallel    \n",
    "    for wtd, wtq in zip(dv, qv):\n",
    "        sumdq += wtd * wtq\n",
    "        sumd += wtd**2\n",
    "        sumq += wtq**2\n",
    "    return sumdq / math.sqrt(sumd * sumq)"
   ]
  },
  {
   "cell_type": "markdown",
   "metadata": {},
   "source": [
    "### Scoring"
   ]
  },
  {
   "cell_type": "code",
   "execution_count": 28,
   "metadata": {
    "collapsed": false
   },
   "outputs": [
    {
     "name": "stdout",
     "output_type": "stream",
     "text": [
      "scoring D0 [0, 0, 3, 0, 0, 0] vs.  [1, 0, 1, 0, 1, 0]\n",
      "scoring D1 [1, 1, 2, 0, 0, 0] vs.  [1, 0, 1, 0, 1, 0]\n",
      "scoring D2 [0, 0, 2, 1, 1, 0] vs.  [1, 0, 1, 0, 1, 0]\n",
      "scoring D3 [0, 0, 0, 1, 1, 0] vs.  [1, 0, 1, 0, 1, 0]\n",
      "scoring D4 [1, 1, 1, 0, 1, 0] vs.  [1, 0, 1, 0, 1, 0]\n"
     ]
    }
   ],
   "source": [
    "scores = {}\n",
    "\n",
    "for d in range(NUM_DOCS):\n",
    "    dtv = []\n",
    "    for t in voc:\n",
    "        dtv.append(tdm_tfidf[t][d])\n",
    "    print(\"scoring D\" + str(d), dtv, \"vs. \", tqv_tfidf)\n",
    "    score = cosine(dtv, tqv_tfidf)\n",
    "    scores[d] = score"
   ]
  },
  {
   "cell_type": "markdown",
   "metadata": {},
   "source": [
    "#### Output documents sorted by relevance score"
   ]
  },
  {
   "cell_type": "code",
   "execution_count": 27,
   "metadata": {
    "collapsed": false
   },
   "outputs": [
    {
     "name": "stdout",
     "output_type": "stream",
     "text": [
      "D5: 0.8660254037844387\n",
      "D2: 0.7071067811865476\n",
      "D3: 0.7071067811865476\n",
      "D1: 0.5773502691896257\n",
      "D4: 0.4082482904638631\n"
     ]
    }
   ],
   "source": [
    "for d, score in sorted(scores.items(), key=operator.itemgetter(1), reverse=True):\n",
    "    print(\"D\" + str(d+1) + \": \" + str(score))"
   ]
  },
  {
   "cell_type": "code",
   "execution_count": null,
   "metadata": {
    "collapsed": true
   },
   "outputs": [],
   "source": []
  }
 ],
 "metadata": {
  "kernelspec": {
   "display_name": "Python 3",
   "language": "python",
   "name": "python3"
  },
  "language_info": {
   "codemirror_mode": {
    "name": "ipython",
    "version": 3
   },
   "file_extension": ".py",
   "mimetype": "text/x-python",
   "name": "python",
   "nbconvert_exporter": "python",
   "pygments_lexer": "ipython3",
   "version": "3.5.1"
  }
 },
 "nbformat": 4,
 "nbformat_minor": 0
}
