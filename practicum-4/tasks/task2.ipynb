{
 "cells": [
  {
   "cell_type": "markdown",
   "metadata": {},
   "source": [
    "# Implementing Bisecting K-Means clustering\n",
    "\n",
    "  - Solve the previous task using the bisecting variant of K-Means\n",
    "  - Measure the quality of the resulting clustering in terms of Sum of Squared Error (SSE)\n",
    "    * How does it compare to the SSE using regular K-Means?   \n",
    "    * How does it compare to the SSE of the 'true' clustering?"
   ]
  },
  {
   "cell_type": "code",
   "execution_count": 1,
   "metadata": {
    "collapsed": true
   },
   "outputs": [],
   "source": [
    "%matplotlib inline"
   ]
  },
  {
   "cell_type": "code",
   "execution_count": 2,
   "metadata": {
    "collapsed": true
   },
   "outputs": [],
   "source": [
    "import sys\n",
    "import math\n",
    "import random\n",
    "import numpy as np\n",
    "import matplotlib.pyplot as plt\n",
    "from sklearn.datasets.samples_generator import make_blobs"
   ]
  },
  {
   "cell_type": "markdown",
   "metadata": {},
   "source": [
    "Compute Eucledian distance between two points given as vectors (lists)"
   ]
  },
  {
   "cell_type": "code",
   "execution_count": 3,
   "metadata": {
    "collapsed": true
   },
   "outputs": [],
   "source": [
    "def dist(p1, p2):\n",
    "    s = 0\n",
    "    for i in range(len(p1)):\n",
    "        s += math.pow(p1[i] - p2[i], 2)\n",
    "    return math.sqrt(s)"
   ]
  },
  {
   "cell_type": "markdown",
   "metadata": {},
   "source": [
    "Compute Sum of Squared Error (SSE) for each cluster\n",
    "\n",
    "$\\mathrm{SSE}=\\sum_{i=1}^K\\sum_{x \\in C_i} dist(c_i,x)^2$\n",
    "\n",
    "where \n",
    "  - $x$ is a data point\n",
    "  - $K$ the number of clusters\n",
    "  - $C_i$ is the ith cluster\n",
    "  - $c_i$ is the centroid of cluster $C_i$"
   ]
  },
  {
   "cell_type": "code",
   "execution_count": 4,
   "metadata": {
    "collapsed": true
   },
   "outputs": [],
   "source": [
    "def sse(points, clusters, centroids):\n",
    "    sse = 0\n",
    "    # TODO\n",
    "    return sse"
   ]
  },
  {
   "cell_type": "markdown",
   "metadata": {},
   "source": [
    "Compute the distances of data points to the cluster centroids and assign to point to the cluster with the closest centroid.\n",
    "(This method returns an array `clusters` where cluster[i] is the cluster assignment (0..k-1) for the ith data point.)"
   ]
  },
  {
   "cell_type": "code",
   "execution_count": 5,
   "metadata": {
    "collapsed": true
   },
   "outputs": [],
   "source": [
    "def clustering(points, centroids):\n",
    "    clusters = []\n",
    "    for p in points:\n",
    "        # compute the distance to all cluster centroids and pick the minimum\n",
    "        min_d = sys.maxsize  # closest centroid distance\n",
    "        min_c = 0  # index of the closest centroid\n",
    "        for i in range(len(centroids)):\n",
    "            d = dist(p, centroids[i])\n",
    "            if d < min_d:\n",
    "                min_d = d\n",
    "                min_c = i\n",
    "        clusters.append(min_c)\n",
    "    return clusters"
   ]
  },
  {
   "cell_type": "markdown",
   "metadata": {},
   "source": [
    "Compute the centroids for a set of clusters"
   ]
  },
  {
   "cell_type": "code",
   "execution_count": 6,
   "metadata": {
    "collapsed": true
   },
   "outputs": [],
   "source": [
    "def get_centroids(points, clusters):\n",
    "    cp = get_clusters_points(points, clusters)\n",
    "    centroids = []\n",
    "    for points in cp:\n",
    "        centroids.append(np.average(points, axis=0).tolist())  # use numpy's averaging\n",
    "    return centroids"
   ]
  },
  {
   "cell_type": "markdown",
   "metadata": {},
   "source": [
    "Collect a list of points belonging to each cluster.\n",
    "(This method returns a list of clusters with a list of points for each.)"
   ]
  },
  {
   "cell_type": "code",
   "execution_count": 7,
   "metadata": {
    "collapsed": true
   },
   "outputs": [],
   "source": [
    "def get_clusters_points(points, clusters):\n",
    "    cpoints = [[] for i in range(max(clusters) + 1)]  # init list of lists\n",
    "    for i in range(len(points)):\n",
    "        c = clusters[i]  # cluster index\n",
    "        cpoints[c].append(points[i])\n",
    "    return cpoints"
   ]
  },
  {
   "cell_type": "markdown",
   "metadata": {},
   "source": [
    "Perform K-Means clustering on a set of data points given the user-specified parameter k"
   ]
  },
  {
   "cell_type": "code",
   "execution_count": 8,
   "metadata": {
    "collapsed": true
   },
   "outputs": [],
   "source": [
    "def kmeans(k, points):\n",
    "    # Select K points as initial centroids\n",
    "    centroids = []\n",
    "    for i in range(k):\n",
    "        j = random.randint(0, len(points) - 1)\n",
    "        centroids.append(points[j])\n",
    "\n",
    "    # The `clusters` list holds the cluster assignment (0..k-1) for each data point\n",
    "    clusters = [0] * len(points)  # assign all points to one cluster\n",
    "    changed = len(points)\n",
    "\n",
    "    # Repeat until the cluster assignments change for less than 1% of the data points\n",
    "    iter = 0\n",
    "    while changed > len(points)*0.01:\n",
    "        iter += 1  # Count iterarions\n",
    "        clusters_old = list(clusters)  # save \"old\" cluster assignments\n",
    "\n",
    "        # Form K clusters by assigning each point to its closest centroid\n",
    "        clusters = clustering(points, centroids)\n",
    "\n",
    "        # Recompute the centroid of each cluster\n",
    "        centroids = get_centroids(points, clusters)\n",
    "\n",
    "        # Count how many points have changed clusters\n",
    "        changed = 0\n",
    "        for i in range(len(clusters)):\n",
    "            if clusters[i] != clusters_old[i]:\n",
    "                changed += 1\n",
    "\n",
    "    # Return both the cluster assignments, the centroids, and the total SSE for the clustering\n",
    "    sum_sse = sum(sse(points, clusters, centroids))\n",
    "    return {'clusters': clusters, 'centroids': centroids, 'sse': sum_sse}"
   ]
  },
  {
   "cell_type": "markdown",
   "metadata": {},
   "source": [
    "Perform Bisecting K-Means clustering on a set of data points given the user-specified parameter k"
   ]
  },
  {
   "cell_type": "code",
   "execution_count": 9,
   "metadata": {
    "collapsed": true
   },
   "outputs": [],
   "source": [
    "def bikmeans(k, points):\n",
    "    # Initial cluster contains all data points\n",
    "    clusters = [0] * len(points)\n",
    "    centroids = get_centroids(points, clusters)\n",
    "\n",
    "    # Repeat until we have K clusters\n",
    "    while max(clusters) + 1 < k:\n",
    "        # Select a cluster to split -- it'll be the cluster with the highest SSE        \n",
    "        max_cluster = 0  # this holds the id of the cluster that will be split\n",
    "        # TODO\n",
    "\n",
    "        # Extract the points that belong the the cluster that'll be split\n",
    "        points2 = []\n",
    "        points2_idx = []  # keep track of the original indices of these points\n",
    "        for idx, x in enumerate(points):\n",
    "            if clusters[idx] == max_cluster:\n",
    "                points2.append(x)\n",
    "                points2_idx.append(idx)\n",
    "\n",
    "        # For a fixed number of trials (=10)\n",
    "        min_sse = sys.maxsize\n",
    "        min_clustering = []\n",
    "        for i in range(10):\n",
    "            # Bisect the selected cluster using basic K-means\n",
    "            km = kmeans(2, points2)\n",
    "            if km['sse'] < min_sse:  # Keep track of the clustering with the minimal SSE\n",
    "                min_sse = km['sse']\n",
    "                min_clustering = km['clusters']\n",
    "\n",
    "        # Reassing the points from the largest cluster based on K-means\n",
    "        newid = max(clusters) + 1\n",
    "        for i, idx in enumerate(points2_idx):\n",
    "            # min_clustering[i] : cluster assigned to the point by K-means (0/1)\n",
    "            # clusters[idx] : original cluster assignment of the point (== max_cluster for the points that are clustered in this iteration)\n",
    "            if clusters[idx] != min_clustering[i] + max_cluster:  # points that move to a new cluster\n",
    "                clusters[idx] = newid\n",
    "\n",
    "        # Update centroids\n",
    "        centroids = get_centroids(points, clusters)\n",
    "\n",
    "        # Visualize the cluster assignments and centroids\n",
    "        plt.clf()\n",
    "        plt.title(str(max(clusters) + 1) + \" clusters\")\n",
    "        plt.scatter([x[0] for x in points], [x[1] for x in points], c=clusters, marker='o', s=50)\n",
    "        plt.scatter([x[0] for x in centroids], [x[1] for x in centroids], c=range(max(clusters) + 1), marker=\"+\", s=250)\n",
    "        plt.show()\n",
    "\n",
    "    # Return both the cluster assignments, the centroids, and the total SSE for the clustering\n",
    "    sum_sse = sum(sse(points, clusters, centroids))\n",
    "    return {'clusters': clusters, 'centroids': centroids, 'sse': sum_sse}"
   ]
  },
  {
   "cell_type": "markdown",
   "metadata": {},
   "source": [
    "## Main"
   ]
  },
  {
   "cell_type": "markdown",
   "metadata": {},
   "source": [
    "Generate random data points"
   ]
  },
  {
   "cell_type": "code",
   "execution_count": 10,
   "metadata": {
    "collapsed": true
   },
   "outputs": [],
   "source": [
    "N = 300\n",
    "points, clusters = make_blobs(n_samples=N, centers=5, n_features=2, cluster_std=0.8, random_state=0)\n",
    "points = np.array(points).tolist()  # convert to numpy array to python list\n",
    "clusters = np.array(clusters).tolist()  # convert to numpy array to python list"
   ]
  },
  {
   "cell_type": "markdown",
   "metadata": {},
   "source": [
    "Perform clustering (k=5)"
   ]
  },
  {
   "cell_type": "code",
   "execution_count": 11,
   "metadata": {
    "collapsed": false
   },
   "outputs": [
    {
     "ename": "TypeError",
     "evalue": "'int' object is not iterable",
     "output_type": "error",
     "traceback": [
      "\u001b[0;31m---------------------------------------------------------------------------\u001b[0m",
      "\u001b[0;31mTypeError\u001b[0m                                 Traceback (most recent call last)",
      "\u001b[0;32m<ipython-input-11-29744c9aecc6>\u001b[0m in \u001b[0;36m<module>\u001b[0;34m()\u001b[0m\n\u001b[0;32m----> 1\u001b[0;31m \u001b[0mbkm\u001b[0m \u001b[0;34m=\u001b[0m \u001b[0mbikmeans\u001b[0m\u001b[0;34m(\u001b[0m\u001b[0;36m5\u001b[0m\u001b[0;34m,\u001b[0m \u001b[0mpoints\u001b[0m\u001b[0;34m)\u001b[0m\u001b[0;34m\u001b[0m\u001b[0m\n\u001b[0m",
      "\u001b[0;32m<ipython-input-9-222fdb1ef029>\u001b[0m in \u001b[0;36mbikmeans\u001b[0;34m(k, points)\u001b[0m\n\u001b[1;32m     23\u001b[0m         \u001b[0;32mfor\u001b[0m \u001b[0mi\u001b[0m \u001b[0;32min\u001b[0m \u001b[0mrange\u001b[0m\u001b[0;34m(\u001b[0m\u001b[0;36m10\u001b[0m\u001b[0;34m)\u001b[0m\u001b[0;34m:\u001b[0m\u001b[0;34m\u001b[0m\u001b[0m\n\u001b[1;32m     24\u001b[0m             \u001b[0;31m# Bisect the selected cluster using basic K-means\u001b[0m\u001b[0;34m\u001b[0m\u001b[0;34m\u001b[0m\u001b[0m\n\u001b[0;32m---> 25\u001b[0;31m             \u001b[0mkm\u001b[0m \u001b[0;34m=\u001b[0m \u001b[0mkmeans\u001b[0m\u001b[0;34m(\u001b[0m\u001b[0;36m2\u001b[0m\u001b[0;34m,\u001b[0m \u001b[0mpoints2\u001b[0m\u001b[0;34m)\u001b[0m\u001b[0;34m\u001b[0m\u001b[0m\n\u001b[0m\u001b[1;32m     26\u001b[0m             \u001b[0;32mif\u001b[0m \u001b[0mkm\u001b[0m\u001b[0;34m[\u001b[0m\u001b[0;34m'sse'\u001b[0m\u001b[0;34m]\u001b[0m \u001b[0;34m<\u001b[0m \u001b[0mmin_sse\u001b[0m\u001b[0;34m:\u001b[0m  \u001b[0;31m# Keep track of the clustering with the minimal SSE\u001b[0m\u001b[0;34m\u001b[0m\u001b[0m\n\u001b[1;32m     27\u001b[0m                 \u001b[0mmin_sse\u001b[0m \u001b[0;34m=\u001b[0m \u001b[0mkm\u001b[0m\u001b[0;34m[\u001b[0m\u001b[0;34m'sse'\u001b[0m\u001b[0;34m]\u001b[0m\u001b[0;34m\u001b[0m\u001b[0m\n",
      "\u001b[0;32m<ipython-input-8-6bc5f58cd306>\u001b[0m in \u001b[0;36mkmeans\u001b[0;34m(k, points)\u001b[0m\n\u001b[1;32m     29\u001b[0m \u001b[0;34m\u001b[0m\u001b[0m\n\u001b[1;32m     30\u001b[0m     \u001b[0;31m# Return both the cluster assignments, the centroids, and the total SSE for the clustering\u001b[0m\u001b[0;34m\u001b[0m\u001b[0;34m\u001b[0m\u001b[0m\n\u001b[0;32m---> 31\u001b[0;31m     \u001b[0msum_sse\u001b[0m \u001b[0;34m=\u001b[0m \u001b[0msum\u001b[0m\u001b[0;34m(\u001b[0m\u001b[0msse\u001b[0m\u001b[0;34m(\u001b[0m\u001b[0mpoints\u001b[0m\u001b[0;34m,\u001b[0m \u001b[0mclusters\u001b[0m\u001b[0;34m,\u001b[0m \u001b[0mcentroids\u001b[0m\u001b[0;34m)\u001b[0m\u001b[0;34m)\u001b[0m\u001b[0;34m\u001b[0m\u001b[0m\n\u001b[0m\u001b[1;32m     32\u001b[0m     \u001b[0;32mreturn\u001b[0m \u001b[0;34m{\u001b[0m\u001b[0;34m'clusters'\u001b[0m\u001b[0;34m:\u001b[0m \u001b[0mclusters\u001b[0m\u001b[0;34m,\u001b[0m \u001b[0;34m'centroids'\u001b[0m\u001b[0;34m:\u001b[0m \u001b[0mcentroids\u001b[0m\u001b[0;34m,\u001b[0m \u001b[0;34m'sse'\u001b[0m\u001b[0;34m:\u001b[0m \u001b[0msum_sse\u001b[0m\u001b[0;34m}\u001b[0m\u001b[0;34m\u001b[0m\u001b[0m\n",
      "\u001b[0;31mTypeError\u001b[0m: 'int' object is not iterable"
     ]
    }
   ],
   "source": [
    "bkm = bikmeans(5, points)"
   ]
  },
  {
   "cell_type": "markdown",
   "metadata": {},
   "source": [
    "Print SSE"
   ]
  },
  {
   "cell_type": "code",
   "execution_count": null,
   "metadata": {
    "collapsed": false
   },
   "outputs": [],
   "source": [
    "print(\"SSE of clustering: \", bkm['sse'])"
   ]
  },
  {
   "cell_type": "markdown",
   "metadata": {},
   "source": [
    "Perform regular K-means clustering and compute SSE"
   ]
  },
  {
   "cell_type": "code",
   "execution_count": null,
   "metadata": {
    "collapsed": true
   },
   "outputs": [],
   "source": [
    "km = kmeans(5, points)\n",
    "print(\"SSE of clustering: \", km['sse'])"
   ]
  },
  {
   "cell_type": "markdown",
   "metadata": {},
   "source": [
    "Visualize the initial data points with the 'true' clusters"
   ]
  },
  {
   "cell_type": "code",
   "execution_count": null,
   "metadata": {
    "collapsed": false
   },
   "outputs": [],
   "source": [
    "plt.clf()\n",
    "plt.scatter([x[0] for x in points], [x[1] for x in points], c=clusters, marker='o', s=50)\n",
    "plt.title('True cluster assignments')\n",
    "plt.show()"
   ]
  },
  {
   "cell_type": "markdown",
   "metadata": {},
   "source": [
    "Compute the SSE for the 'true' clusters"
   ]
  },
  {
   "cell_type": "code",
   "execution_count": null,
   "metadata": {
    "collapsed": false
   },
   "outputs": [],
   "source": [
    "centroids = get_centroids(points, clusters)\n",
    "print(\"SSE of 'true' clustering: \", sum(sse(points, clusters, centroids)))"
   ]
  }
 ],
 "metadata": {
  "kernelspec": {
   "display_name": "Python 3",
   "language": "python",
   "name": "python3"
  },
  "language_info": {
   "codemirror_mode": {
    "name": "ipython",
    "version": 3
   },
   "file_extension": ".py",
   "mimetype": "text/x-python",
   "name": "python",
   "nbconvert_exporter": "python",
   "pygments_lexer": "ipython3",
   "version": "3.5.1"
  }
 },
 "nbformat": 4,
 "nbformat_minor": 0
}
